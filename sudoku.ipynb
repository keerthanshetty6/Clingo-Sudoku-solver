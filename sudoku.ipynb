{
 "cells": [
  {
   "cell_type": "code",
   "execution_count": 1,
   "metadata": {},
   "outputs": [
    {
     "name": "stdout",
     "output_type": "stream",
     "text": [
      "clingo version 5.1.0\r\n",
      "Reading from stdin\r\n",
      "Solving...\r\n",
      "Answer: 1\r\n",
      "sudoku(1,1,3) sudoku(1,2,4) sudoku(1,3,2) sudoku(1,4,1) sudoku(2,1,2) sudoku(2,2,1) sudoku(2,3,3) sudoku(2,4,4) sudoku(3,1,4) sudoku(3,2,3) sudoku(3,3,1) sudoku(3,4,2) sudoku(4,1,1) sudoku(4,2,2) sudoku(4,3,4) sudoku(4,4,3)\r\n",
      "Consequences: [16;64]\r\n",
      "Answer: 2\r\n",
      "sudoku(1,1,3) sudoku(1,1,4) sudoku(1,2,3) sudoku(1,2,4) sudoku(1,3,1) sudoku(1,3,2) sudoku(1,4,1) sudoku(1,4,2) sudoku(2,1,2) sudoku(2,2,1) sudoku(2,3,3) sudoku(2,3,4) sudoku(2,4,3) sudoku(2,4,4) sudoku(3,1,3) sudoku(3,1,4) sudoku(3,2,3) sudoku(3,2,4) sudoku(3,3,1) sudoku(3,3,2) sudoku(3,4,1) sudoku(3,4,2) sudoku(4,1,1) sudoku(4,2,2) sudoku(4,3,3) sudoku(4,3,4) sudoku(4,4,3) sudoku(4,4,4)\r\n",
      "Consequences: [28;64]\r\n",
      "Answer: 3\r\n",
      "sudoku(1,1,3) sudoku(1,1,4) sudoku(1,2,3) sudoku(1,2,4) sudoku(1,3,1) sudoku(1,3,2) sudoku(1,4,1) sudoku(1,4,2) sudoku(2,1,2) sudoku(2,2,1) sudoku(2,3,3) sudoku(2,3,4) sudoku(2,4,3) sudoku(2,4,4) sudoku(3,1,1) sudoku(3,1,3) sudoku(3,1,4) sudoku(3,2,2) sudoku(3,2,3) sudoku(3,2,4) sudoku(3,3,1) sudoku(3,3,2) sudoku(3,3,3) sudoku(3,4,1) sudoku(3,4,2) sudoku(3,4,4) sudoku(4,1,1) sudoku(4,1,4) sudoku(4,2,2) sudoku(4,2,3) sudoku(4,3,1) sudoku(4,3,3) sudoku(4,3,4) sudoku(4,4,2) sudoku(4,4,3) sudoku(4,4,4)\r\n",
      "Consequences: [36;64]\r\n",
      "Answer: 4\r\n",
      "sudoku(1,1,3) sudoku(1,1,4) sudoku(1,2,3) sudoku(1,2,4) sudoku(1,3,1) sudoku(1,3,2) sudoku(1,4,1) sudoku(1,4,2) sudoku(2,1,2) sudoku(2,2,1) sudoku(2,3,3) sudoku(2,3,4) sudoku(2,4,3) sudoku(2,4,4) sudoku(3,1,1) sudoku(3,1,3) sudoku(3,1,4) sudoku(3,2,2) sudoku(3,2,3) sudoku(3,2,4) sudoku(3,3,1) sudoku(3,3,2) sudoku(3,3,3) sudoku(3,4,1) sudoku(3,4,2) sudoku(3,4,4) sudoku(4,1,1) sudoku(4,1,4) sudoku(4,2,2) sudoku(4,2,3) sudoku(4,3,1) sudoku(4,3,2) sudoku(4,3,3) sudoku(4,3,4) sudoku(4,4,2) sudoku(4,4,3) sudoku(4,4,4)\r\n",
      "Consequences: [37;64]\r\n",
      "Answer: 5\r\n",
      "sudoku(1,1,1) sudoku(1,1,3) sudoku(1,1,4) sudoku(1,2,3) sudoku(1,2,4) sudoku(1,3,1) sudoku(1,3,2) sudoku(1,3,4) sudoku(1,4,1) sudoku(1,4,2) sudoku(2,1,2) sudoku(2,1,4) sudoku(2,2,1) sudoku(2,2,2) sudoku(2,3,1) sudoku(2,3,3) sudoku(2,3,4) sudoku(2,4,3) sudoku(2,4,4) sudoku(3,1,1) sudoku(3,1,2) sudoku(3,1,3) sudoku(3,1,4) sudoku(3,2,1) sudoku(3,2,2) sudoku(3,2,3) sudoku(3,2,4) sudoku(3,3,1) sudoku(3,3,2) sudoku(3,3,3) sudoku(3,4,1) sudoku(3,4,2) sudoku(3,4,4) sudoku(4,1,1) sudoku(4,1,3) sudoku(4,1,4) sudoku(4,2,2) sudoku(4,2,3) sudoku(4,2,4) sudoku(4,3,1) sudoku(4,3,2) sudoku(4,3,3) sudoku(4,3,4) sudoku(4,4,1) sudoku(4,4,2) sudoku(4,4,3) sudoku(4,4,4)\r\n",
      "Consequences: [47;64]\r\n",
      "Answer: 6\r\n",
      "sudoku(1,1,1) sudoku(1,1,3) sudoku(1,1,4) sudoku(1,2,3) sudoku(1,2,4) sudoku(1,3,1) sudoku(1,3,2) sudoku(1,3,4) sudoku(1,4,1) sudoku(1,4,2) sudoku(2,1,2) sudoku(2,1,4) sudoku(2,2,1) sudoku(2,2,2) sudoku(2,3,1) sudoku(2,3,3) sudoku(2,3,4) sudoku(2,4,3) sudoku(2,4,4) sudoku(3,1,1) sudoku(3,1,2) sudoku(3,1,3) sudoku(3,1,4) sudoku(3,2,1) sudoku(3,2,2) sudoku(3,2,3) sudoku(3,2,4) sudoku(3,3,1) sudoku(3,3,2) sudoku(3,3,3) sudoku(3,3,4) sudoku(3,4,1) sudoku(3,4,2) sudoku(3,4,3) sudoku(3,4,4) sudoku(4,1,1) sudoku(4,1,3) sudoku(4,1,4) sudoku(4,2,2) sudoku(4,2,3) sudoku(4,2,4) sudoku(4,3,1) sudoku(4,3,2) sudoku(4,3,3) sudoku(4,3,4) sudoku(4,4,1) sudoku(4,4,2) sudoku(4,4,3) sudoku(4,4,4)\r\n",
      "Consequences: [49;64]\r\n",
      "Answer: 7\r\n",
      "sudoku(1,1,1) sudoku(1,1,2) sudoku(1,1,3) sudoku(1,1,4) sudoku(1,2,1) sudoku(1,2,3) sudoku(1,2,4) sudoku(1,3,1) sudoku(1,3,2) sudoku(1,3,3) sudoku(1,3,4) sudoku(1,4,1) sudoku(1,4,2) sudoku(1,4,4) sudoku(2,1,2) sudoku(2,1,4) sudoku(2,2,1) sudoku(2,2,2) sudoku(2,2,3) sudoku(2,3,1) sudoku(2,3,2) sudoku(2,3,3) sudoku(2,3,4) sudoku(2,4,1) sudoku(2,4,3) sudoku(2,4,4) sudoku(3,1,1) sudoku(3,1,2) sudoku(3,1,3) sudoku(3,1,4) sudoku(3,2,1) sudoku(3,2,2) sudoku(3,2,3) sudoku(3,2,4) sudoku(3,3,1) sudoku(3,3,2) sudoku(3,3,3) sudoku(3,3,4) sudoku(3,4,1) sudoku(3,4,2) sudoku(3,4,3) sudoku(3,4,4) sudoku(4,1,1) sudoku(4,1,3) sudoku(4,1,4) sudoku(4,2,2) sudoku(4,2,3) sudoku(4,2,4) sudoku(4,3,1) sudoku(4,3,2) sudoku(4,3,3) sudoku(4,3,4) sudoku(4,4,1) sudoku(4,4,2) sudoku(4,4,3) sudoku(4,4,4)\r\n",
      "Consequences: [56;64]\r\n",
      "Answer: 8\r\n",
      "sudoku(1,1,1) sudoku(1,1,2) sudoku(1,1,3) sudoku(1,1,4) sudoku(1,2,1) sudoku(1,2,3) sudoku(1,2,4) sudoku(1,3,1) sudoku(1,3,2) sudoku(1,3,3) sudoku(1,3,4) sudoku(1,4,1) sudoku(1,4,2) sudoku(1,4,4) sudoku(2,1,1) sudoku(2,1,2) sudoku(2,1,4) sudoku(2,2,1) sudoku(2,2,2) sudoku(2,2,3) sudoku(2,3,1) sudoku(2,3,2) sudoku(2,3,3) sudoku(2,3,4) sudoku(2,4,1) sudoku(2,4,3) sudoku(2,4,4) sudoku(3,1,1) sudoku(3,1,2) sudoku(3,1,3) sudoku(3,1,4) sudoku(3,2,1) sudoku(3,2,2) sudoku(3,2,3) sudoku(3,2,4) sudoku(3,3,1) sudoku(3,3,2) sudoku(3,3,3) sudoku(3,3,4) sudoku(3,4,1) sudoku(3,4,2) sudoku(3,4,3) sudoku(3,4,4) sudoku(4,1,1) sudoku(4,1,2) sudoku(4,1,3) sudoku(4,1,4) sudoku(4,2,1) sudoku(4,2,2) sudoku(4,2,3) sudoku(4,2,4) sudoku(4,3,1) sudoku(4,3,2) sudoku(4,3,3) sudoku(4,3,4) sudoku(4,4,1) sudoku(4,4,2) sudoku(4,4,3) sudoku(4,4,4)\r\n",
      "Consequences: [59;64]\r\n",
      "Answer: 9\r\n",
      "sudoku(1,1,1) sudoku(1,1,2) sudoku(1,1,3) sudoku(1,1,4) sudoku(1,2,1) sudoku(1,2,3) sudoku(1,2,4) sudoku(1,3,1) sudoku(1,3,2) sudoku(1,3,3) sudoku(1,3,4) sudoku(1,4,1) sudoku(1,4,2) sudoku(1,4,4) sudoku(2,1,1) sudoku(2,1,2) sudoku(2,1,4) sudoku(2,2,1) sudoku(2,2,2) sudoku(2,2,3) sudoku(2,2,4) sudoku(2,3,1) sudoku(2,3,2) sudoku(2,3,3) sudoku(2,3,4) sudoku(2,4,1) sudoku(2,4,3) sudoku(2,4,4) sudoku(3,1,1) sudoku(3,1,2) sudoku(3,1,3) sudoku(3,1,4) sudoku(3,2,1) sudoku(3,2,2) sudoku(3,2,3) sudoku(3,2,4) sudoku(3,3,1) sudoku(3,3,2) sudoku(3,3,3) sudoku(3,3,4) sudoku(3,4,1) sudoku(3,4,2) sudoku(3,4,3) sudoku(3,4,4) sudoku(4,1,1) sudoku(4,1,2) sudoku(4,1,3) sudoku(4,1,4) sudoku(4,2,1) sudoku(4,2,2) sudoku(4,2,3) sudoku(4,2,4) sudoku(4,3,1) sudoku(4,3,2) sudoku(4,3,3) sudoku(4,3,4) sudoku(4,4,1) sudoku(4,4,2) sudoku(4,4,3) sudoku(4,4,4)\r\n",
      "Consequences: [60;64]\r\n",
      "Answer: 10\r\n",
      "sudoku(1,1,1) sudoku(1,1,2) sudoku(1,1,3) sudoku(1,1,4) sudoku(1,2,1) sudoku(1,2,2) sudoku(1,2,3) sudoku(1,2,4) sudoku(1,3,1) sudoku(1,3,2) sudoku(1,3,3) sudoku(1,3,4) sudoku(1,4,1) sudoku(1,4,2) sudoku(1,4,4) sudoku(2,1,1) sudoku(2,1,2) sudoku(2,1,4) sudoku(2,2,1) sudoku(2,2,2) sudoku(2,2,3) sudoku(2,2,4) sudoku(2,3,1) sudoku(2,3,2) sudoku(2,3,3) sudoku(2,3,4) sudoku(2,4,1) sudoku(2,4,2) sudoku(2,4,3) sudoku(2,4,4) sudoku(3,1,1) sudoku(3,1,2) sudoku(3,1,3) sudoku(3,1,4) sudoku(3,2,1) sudoku(3,2,2) sudoku(3,2,3) sudoku(3,2,4) sudoku(3,3,1) sudoku(3,3,2) sudoku(3,3,3) sudoku(3,3,4) sudoku(3,4,1) sudoku(3,4,2) sudoku(3,4,3) sudoku(3,4,4) sudoku(4,1,1) sudoku(4,1,2) sudoku(4,1,3) sudoku(4,1,4) sudoku(4,2,1) sudoku(4,2,2) sudoku(4,2,3) sudoku(4,2,4) sudoku(4,3,1) sudoku(4,3,2) sudoku(4,3,3) sudoku(4,3,4) sudoku(4,4,1) sudoku(4,4,2) sudoku(4,4,3) sudoku(4,4,4)\r\n",
      "Consequences: [62;64]\r\n",
      "Answer: 11\r\n",
      "sudoku(1,1,1) sudoku(1,1,2) sudoku(1,1,3) sudoku(1,1,4) sudoku(1,2,1) sudoku(1,2,2) sudoku(1,2,3) sudoku(1,2,4) sudoku(1,3,1) sudoku(1,3,2) sudoku(1,3,3) sudoku(1,3,4) sudoku(1,4,1) sudoku(1,4,2) sudoku(1,4,3) sudoku(1,4,4) sudoku(2,1,1) sudoku(2,1,2) sudoku(2,1,4) sudoku(2,2,1) sudoku(2,2,2) sudoku(2,2,3) sudoku(2,2,4) sudoku(2,3,1) sudoku(2,3,2) sudoku(2,3,3) sudoku(2,3,4) sudoku(2,4,1) sudoku(2,4,2) sudoku(2,4,3) sudoku(2,4,4) sudoku(3,1,1) sudoku(3,1,2) sudoku(3,1,3) sudoku(3,1,4) sudoku(3,2,1) sudoku(3,2,2) sudoku(3,2,3) sudoku(3,2,4) sudoku(3,3,1) sudoku(3,3,2) sudoku(3,3,3) sudoku(3,3,4) sudoku(3,4,1) sudoku(3,4,2) sudoku(3,4,3) sudoku(3,4,4) sudoku(4,1,1) sudoku(4,1,2) sudoku(4,1,3) sudoku(4,1,4) sudoku(4,2,1) sudoku(4,2,2) sudoku(4,2,3) sudoku(4,2,4) sudoku(4,3,1) sudoku(4,3,2) sudoku(4,3,3) sudoku(4,3,4) sudoku(4,4,1) sudoku(4,4,2) sudoku(4,4,3) sudoku(4,4,4)\r\n",
      "Consequences: [63;64]\r\n",
      "Answer: 12\r\n",
      "sudoku(1,1,1) sudoku(1,1,2) sudoku(1,1,3) sudoku(1,1,4) sudoku(1,2,1) sudoku(1,2,2) sudoku(1,2,3) sudoku(1,2,4) sudoku(1,3,1) sudoku(1,3,2) sudoku(1,3,3) sudoku(1,3,4) sudoku(1,4,1) sudoku(1,4,2) sudoku(1,4,3) sudoku(1,4,4) sudoku(2,1,1) sudoku(2,1,2) sudoku(2,1,3) sudoku(2,1,4) sudoku(2,2,1) sudoku(2,2,2) sudoku(2,2,3) sudoku(2,2,4) sudoku(2,3,1) sudoku(2,3,2) sudoku(2,3,3) sudoku(2,3,4) sudoku(2,4,1) sudoku(2,4,2) sudoku(2,4,3) sudoku(2,4,4) sudoku(3,1,1) sudoku(3,1,2) sudoku(3,1,3) sudoku(3,1,4) sudoku(3,2,1) sudoku(3,2,2) sudoku(3,2,3) sudoku(3,2,4) sudoku(3,3,1) sudoku(3,3,2) sudoku(3,3,3) sudoku(3,3,4) sudoku(3,4,1) sudoku(3,4,2) sudoku(3,4,3) sudoku(3,4,4) sudoku(4,1,1) sudoku(4,1,2) sudoku(4,1,3) sudoku(4,1,4) sudoku(4,2,1) sudoku(4,2,2) sudoku(4,2,3) sudoku(4,2,4) sudoku(4,3,1) sudoku(4,3,2) sudoku(4,3,3) sudoku(4,3,4) sudoku(4,4,1) sudoku(4,4,2) sudoku(4,4,3) sudoku(4,4,4)\r\n",
      "Consequences: [64;64]\r\n",
      "SATISFIABLE\r\n",
      "\r\n",
      "Models       : 12\r\n",
      "  Brave      : yes\r\n",
      "Consequences : 64\r\n",
      "Calls        : 1\r\n",
      "Time         : 0.288s (Solving: 0.26s 1st Model: 0.26s Unsat: 0.00s)\r\n",
      "CPU Time     : 0.000s\r\n",
      "Threads      : 4        (Winner: 2)\r\n"
     ]
    }
   ],
   "source": [
    "%%script  --no-raise-error clingo --enum-mode=brave -t4\n",
    "\n",
    "#const n=2.\n",
    "\n",
    "1{initial(X,Y,1..n*n)}1:-X=1..n**n,Y=1..n*n.\n",
    ":-not initial(X,_,N),X=1..n*n,N=1..n*n.\n",
    ":-not initial(_,Y,N),Y=1..n*n,N=1..n*n.\n",
    "    \n",
    "initial(X,Y,(((X-1)/n)*n + (Y-1)/n),N):-initial(X,Y,N).\n",
    ":-not initial(_,_,S,N), S=0..n*n-1,N=1..n*n.\n",
    "    \n",
    "\n",
    "sudoku(I,J,K):-initial(I,J,K).\n",
    "\n",
    "#show sudoku/3."
   ]
  },
  {
   "cell_type": "code",
   "execution_count": null,
   "metadata": {},
   "outputs": [],
   "source": []
  }
 ],
 "metadata": {
  "kernelspec": {
   "display_name": "Python 3",
   "language": "python",
   "name": "python3"
  },
  "language_info": {
   "codemirror_mode": {
    "name": "ipython",
    "version": 3
   },
   "file_extension": ".py",
   "mimetype": "text/x-python",
   "name": "python",
   "nbconvert_exporter": "python",
   "pygments_lexer": "ipython3",
   "version": "3.7.9"
  }
 },
 "nbformat": 4,
 "nbformat_minor": 4
}
